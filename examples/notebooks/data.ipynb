{
 "cells": [
  {
   "cell_type": "code",
   "execution_count": 111,
   "metadata": {},
   "outputs": [],
   "source": [
    "import torch\n",
    "import pandas as pd\n",
    "import numpy as np\n",
    "\n",
    "from typing import List\n",
    "from torch_geometric.data import InMemoryDataset"
   ]
  },
  {
   "cell_type": "code",
   "execution_count": 112,
   "metadata": {},
   "outputs": [],
   "source": [
    "doc0 = [\"The\", \"quick\", \"brown\", \"fox\", \"jumped\", \"over\", \"the\", \"lazy\", \"dog\"]\n",
    "doc1 = [\"Welcome\", \"to\", \"the\", \"dog\", \"days\", \"of\", \"summer\"]\n",
    "docs = [doc0, doc1]\n",
    "vocab = set(doc0 + doc1)"
   ]
  },
  {
   "cell_type": "code",
   "execution_count": 113,
   "metadata": {},
   "outputs": [],
   "source": [
    "vocab_to_int = {term: token for token, term in enumerate(vocab)}\n",
    "int_to_vocab = {token: term for term, token in vocab_to_int.items()}"
   ]
  },
  {
   "cell_type": "code",
   "execution_count": 114,
   "metadata": {},
   "outputs": [],
   "source": [
    "def tokenize(sent):\n",
    "    \"\"\"Map sentence to tokens\"\"\"\n",
    "    return [vocab_to_int[word] for word in sent]\n",
    "\n",
    "\n",
    "def untokenize(sent):\n",
    "    \"\"\"Map tokens to sentence\"\"\"\n",
    "    return [int_to_vocab[token] for token in sent]\n",
    "\n",
    "\n",
    "def one_hot_encode(sent):\n",
    "    \"\"\"One hot encode a sentence\"\"\"\n",
    "    return np.stack([token_to_one_hot(x) for x in sent])\n",
    "\n",
    "\n",
    "def decode_one_hot(encoding) -> List[str]:\n",
    "    \"\"\"Decode a one hot encoding back to sentence\"\"\"\n",
    "    return [one_hot_word_to_token(x) for x in encoding]\n",
    "\n",
    "\n",
    "def token_to_one_hot(token):\n",
    "    \"\"\"One hot encode a token\"\"\"\n",
    "    word = np.zeros(len(vocab), dtype=int)\n",
    "    word[token] = 1\n",
    "    return word\n",
    "\n",
    "\n",
    "def one_hot_word_to_token(one_hot_word):\n",
    "    \"\"\"Convert one hot encoded word to token\"\"\"\n",
    "    return int_to_vocab[np.argmax(one_hot_word)]"
   ]
  },
  {
   "cell_type": "code",
   "execution_count": 115,
   "metadata": {},
   "outputs": [],
   "source": [
    "tokenized = [tokenize(x) for x in docs]\n",
    "sentences = [untokenize(x) for x in tokenized]"
   ]
  },
  {
   "cell_type": "code",
   "execution_count": 116,
   "metadata": {},
   "outputs": [
    {
     "data": {
      "text/plain": [
       "[['The', 'quick', 'brown', 'fox', 'jumped', 'over', 'the', 'lazy', 'dog'],\n",
       " ['Welcome', 'to', 'the', 'dog', 'days', 'of', 'summer']]"
      ]
     },
     "execution_count": 116,
     "metadata": {},
     "output_type": "execute_result"
    }
   ],
   "source": [
    "sentences"
   ]
  },
  {
   "cell_type": "code",
   "execution_count": 122,
   "metadata": {},
   "outputs": [],
   "source": [
    "onehot_encoded = one_hot_encode(tokenized[1])"
   ]
  },
  {
   "cell_type": "code",
   "execution_count": 123,
   "metadata": {},
   "outputs": [
    {
     "data": {
      "text/plain": [
       "array([[0, 0, 0, 1, 0, 0, 0, 0, 0, 0, 0, 0, 0, 0],\n",
       "       [0, 0, 0, 0, 0, 1, 0, 0, 0, 0, 0, 0, 0, 0],\n",
       "       [0, 0, 0, 0, 0, 0, 0, 0, 0, 0, 0, 1, 0, 0],\n",
       "       [0, 0, 1, 0, 0, 0, 0, 0, 0, 0, 0, 0, 0, 0],\n",
       "       [0, 0, 0, 0, 0, 0, 0, 0, 0, 0, 1, 0, 0, 0],\n",
       "       [0, 0, 0, 0, 0, 0, 1, 0, 0, 0, 0, 0, 0, 0],\n",
       "       [0, 0, 0, 0, 0, 0, 0, 1, 0, 0, 0, 0, 0, 0]])"
      ]
     },
     "execution_count": 123,
     "metadata": {},
     "output_type": "execute_result"
    }
   ],
   "source": [
    "onehot_encoded"
   ]
  },
  {
   "cell_type": "code",
   "execution_count": 124,
   "metadata": {},
   "outputs": [],
   "source": [
    "sentence = decode_one_hot(onehot_encoded)"
   ]
  },
  {
   "cell_type": "code",
   "execution_count": 125,
   "metadata": {},
   "outputs": [
    {
     "data": {
      "text/plain": [
       "['Welcome', 'to', 'the', 'dog', 'days', 'of', 'summer']"
      ]
     },
     "execution_count": 125,
     "metadata": {},
     "output_type": "execute_result"
    }
   ],
   "source": [
    "sentence"
   ]
  },
  {
   "cell_type": "code",
   "execution_count": 126,
   "metadata": {},
   "outputs": [
    {
     "data": {
      "text/plain": [
       "(7, 14)"
      ]
     },
     "execution_count": 126,
     "metadata": {},
     "output_type": "execute_result"
    }
   ],
   "source": [
    "onehot_encoded.shape"
   ]
  },
  {
   "cell_type": "code",
   "execution_count": null,
   "metadata": {},
   "outputs": [],
   "source": []
  }
 ],
 "metadata": {
  "kernelspec": {
   "display_name": "Python 3",
   "language": "python",
   "name": "python3"
  },
  "language_info": {
   "codemirror_mode": {
    "name": "ipython",
    "version": 3
   },
   "file_extension": ".py",
   "mimetype": "text/x-python",
   "name": "python",
   "nbconvert_exporter": "python",
   "pygments_lexer": "ipython3",
   "version": "3.7.6"
  }
 },
 "nbformat": 4,
 "nbformat_minor": 4
}
